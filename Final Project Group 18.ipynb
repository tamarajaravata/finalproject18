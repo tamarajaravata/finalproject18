{
 "cells": [
  {
   "cell_type": "markdown",
   "metadata": {},
   "source": [
    "## Group Number: 18\n",
    "\n",
    "Name: Tamara Jaravata\n",
    "\n",
    "Name: Brandon Cho\n",
    "\n",
    "Name: Jonathan Greenlee\n",
    "\n",
    "Name: Owen Gunawan\n",
    "\n",
    "Name: Emily Kerr\n",
    "\n",
    "Name: Lily Mohtashami"
   ]
  },
  {
   "cell_type": "code",
   "execution_count": 1,
   "metadata": {},
   "outputs": [],
   "source": [
    "suppressPackageStartupMessages({\n",
    "    library(dplyr)\n",
    "    library(ggformula)\n",
    "    library(mosaic)\n",
    "    library(supernova)\n",
    "    library(lsr)})"
   ]
  },
  {
   "cell_type": "code",
   "execution_count": 2,
   "metadata": {},
   "outputs": [
    {
     "data": {
      "text/html": [
       "<table class=\"dataframe\">\n",
       "<caption>A data.frame: 6 × 58</caption>\n",
       "<thead>\n",
       "\t<tr><th></th><th scope=col>MoAimportSUM</th><th scope=col>MoAachieveSUM</th><th scope=col>IDEA8_exp</th><th scope=col>IDEA8_negativity</th><th scope=col>IDEA8_identity</th><th scope=col>IDEA8_between</th><th scope=col>IDEA8All</th><th scope=col>PSS_Family</th><th scope=col>PSS_Friends</th><th scope=col>PSS_Special</th><th scope=col>⋯</th><th scope=col>USresidency</th><th scope=col>USresidencyyears</th><th scope=col>EA_Status</th><th scope=col>Election_date</th><th scope=col>Political_views</th><th scope=col>Party_affiliation</th><th scope=col>President_coded</th><th scope=col>DisabilityIdentity</th><th scope=col>RaceCoded</th><th scope=col>EducationCoded</th></tr>\n",
       "\t<tr><th></th><th scope=col>&lt;int&gt;</th><th scope=col>&lt;int&gt;</th><th scope=col>&lt;dbl&gt;</th><th scope=col>&lt;dbl&gt;</th><th scope=col>&lt;dbl&gt;</th><th scope=col>&lt;dbl&gt;</th><th scope=col>&lt;dbl&gt;</th><th scope=col>&lt;dbl&gt;</th><th scope=col>&lt;dbl&gt;</th><th scope=col>&lt;dbl&gt;</th><th scope=col>⋯</th><th scope=col>&lt;int&gt;</th><th scope=col>&lt;dbl&gt;</th><th scope=col>&lt;int&gt;</th><th scope=col>&lt;int&gt;</th><th scope=col>&lt;int&gt;</th><th scope=col>&lt;int&gt;</th><th scope=col>&lt;chr&gt;</th><th scope=col>&lt;int&gt;</th><th scope=col>&lt;int&gt;</th><th scope=col>&lt;int&gt;</th></tr>\n",
       "</thead>\n",
       "<tbody>\n",
       "\t<tr><th scope=row>1</th><td>68</td><td>48</td><td>2.5</td><td>3.5</td><td>3.5</td><td>2.5</td><td>3.000</td><td>6.50</td><td>6.00</td><td>5.75</td><td>⋯</td><td>NA</td><td>NA</td><td>0</td><td>1</td><td>NA</td><td>2</td><td>Cruz   </td><td> 2</td><td>NA</td><td>NA</td></tr>\n",
       "\t<tr><th scope=row>2</th><td>64</td><td>40</td><td>4.0</td><td>3.5</td><td>3.5</td><td>3.5</td><td>3.625</td><td>6.25</td><td>6.50</td><td>4.00</td><td>⋯</td><td>NA</td><td>NA</td><td>0</td><td>1</td><td> 2</td><td>2</td><td>Sanders</td><td> 2</td><td>NA</td><td>NA</td></tr>\n",
       "\t<tr><th scope=row>3</th><td>73</td><td>45</td><td>3.0</td><td>3.5</td><td>3.0</td><td>3.5</td><td>3.250</td><td>6.00</td><td>3.75</td><td>6.50</td><td>⋯</td><td>NA</td><td>NA</td><td>0</td><td>1</td><td> 5</td><td>4</td><td>neither</td><td>NA</td><td>NA</td><td>NA</td></tr>\n",
       "\t<tr><th scope=row>4</th><td>72</td><td>44</td><td>3.5</td><td>3.0</td><td>3.0</td><td>3.5</td><td>3.250</td><td>6.00</td><td>5.25</td><td>5.00</td><td>⋯</td><td>NA</td><td>NA</td><td>0</td><td>1</td><td> 5</td><td>6</td><td>       </td><td> 2</td><td>NA</td><td>NA</td></tr>\n",
       "\t<tr><th scope=row>5</th><td>67</td><td>37</td><td>3.0</td><td>4.0</td><td>3.0</td><td>3.0</td><td>3.250</td><td>5.50</td><td>4.25</td><td>4.75</td><td>⋯</td><td>NA</td><td>NA</td><td>0</td><td>1</td><td> 3</td><td>3</td><td>Clinton</td><td> 2</td><td>NA</td><td>NA</td></tr>\n",
       "\t<tr><th scope=row>6</th><td>60</td><td>36</td><td>1.5</td><td>3.5</td><td>2.0</td><td>3.0</td><td>2.500</td><td>4.00</td><td>2.75</td><td>2.75</td><td>⋯</td><td>NA</td><td>NA</td><td>0</td><td>1</td><td> 1</td><td>4</td><td>Stein  </td><td> 2</td><td>NA</td><td>NA</td></tr>\n",
       "</tbody>\n",
       "</table>\n"
      ],
      "text/latex": [
       "A data.frame: 6 × 58\n",
       "\\begin{tabular}{r|lllllllllllllllllllll}\n",
       "  & MoAimportSUM & MoAachieveSUM & IDEA8\\_exp & IDEA8\\_negativity & IDEA8\\_identity & IDEA8\\_between & IDEA8All & PSS\\_Family & PSS\\_Friends & PSS\\_Special & ⋯ & USresidency & USresidencyyears & EA\\_Status & Election\\_date & Political\\_views & Party\\_affiliation & President\\_coded & DisabilityIdentity & RaceCoded & EducationCoded\\\\\n",
       "  & <int> & <int> & <dbl> & <dbl> & <dbl> & <dbl> & <dbl> & <dbl> & <dbl> & <dbl> & ⋯ & <int> & <dbl> & <int> & <int> & <int> & <int> & <chr> & <int> & <int> & <int>\\\\\n",
       "\\hline\n",
       "\t1 & 68 & 48 & 2.5 & 3.5 & 3.5 & 2.5 & 3.000 & 6.50 & 6.00 & 5.75 & ⋯ & NA & NA & 0 & 1 & NA & 2 & Cruz    &  2 & NA & NA\\\\\n",
       "\t2 & 64 & 40 & 4.0 & 3.5 & 3.5 & 3.5 & 3.625 & 6.25 & 6.50 & 4.00 & ⋯ & NA & NA & 0 & 1 &  2 & 2 & Sanders &  2 & NA & NA\\\\\n",
       "\t3 & 73 & 45 & 3.0 & 3.5 & 3.0 & 3.5 & 3.250 & 6.00 & 3.75 & 6.50 & ⋯ & NA & NA & 0 & 1 &  5 & 4 & neither & NA & NA & NA\\\\\n",
       "\t4 & 72 & 44 & 3.5 & 3.0 & 3.0 & 3.5 & 3.250 & 6.00 & 5.25 & 5.00 & ⋯ & NA & NA & 0 & 1 &  5 & 6 &         &  2 & NA & NA\\\\\n",
       "\t5 & 67 & 37 & 3.0 & 4.0 & 3.0 & 3.0 & 3.250 & 5.50 & 4.25 & 4.75 & ⋯ & NA & NA & 0 & 1 &  3 & 3 & Clinton &  2 & NA & NA\\\\\n",
       "\t6 & 60 & 36 & 1.5 & 3.5 & 2.0 & 3.0 & 2.500 & 4.00 & 2.75 & 2.75 & ⋯ & NA & NA & 0 & 1 &  1 & 4 & Stein   &  2 & NA & NA\\\\\n",
       "\\end{tabular}\n"
      ],
      "text/markdown": [
       "\n",
       "A data.frame: 6 × 58\n",
       "\n",
       "| <!--/--> | MoAimportSUM &lt;int&gt; | MoAachieveSUM &lt;int&gt; | IDEA8_exp &lt;dbl&gt; | IDEA8_negativity &lt;dbl&gt; | IDEA8_identity &lt;dbl&gt; | IDEA8_between &lt;dbl&gt; | IDEA8All &lt;dbl&gt; | PSS_Family &lt;dbl&gt; | PSS_Friends &lt;dbl&gt; | PSS_Special &lt;dbl&gt; | ⋯ ⋯ | USresidency &lt;int&gt; | USresidencyyears &lt;dbl&gt; | EA_Status &lt;int&gt; | Election_date &lt;int&gt; | Political_views &lt;int&gt; | Party_affiliation &lt;int&gt; | President_coded &lt;chr&gt; | DisabilityIdentity &lt;int&gt; | RaceCoded &lt;int&gt; | EducationCoded &lt;int&gt; |\n",
       "|---|---|---|---|---|---|---|---|---|---|---|---|---|---|---|---|---|---|---|---|---|---|\n",
       "| 1 | 68 | 48 | 2.5 | 3.5 | 3.5 | 2.5 | 3.000 | 6.50 | 6.00 | 5.75 | ⋯ | NA | NA | 0 | 1 | NA | 2 | Cruz    |  2 | NA | NA |\n",
       "| 2 | 64 | 40 | 4.0 | 3.5 | 3.5 | 3.5 | 3.625 | 6.25 | 6.50 | 4.00 | ⋯ | NA | NA | 0 | 1 |  2 | 2 | Sanders |  2 | NA | NA |\n",
       "| 3 | 73 | 45 | 3.0 | 3.5 | 3.0 | 3.5 | 3.250 | 6.00 | 3.75 | 6.50 | ⋯ | NA | NA | 0 | 1 |  5 | 4 | neither | NA | NA | NA |\n",
       "| 4 | 72 | 44 | 3.5 | 3.0 | 3.0 | 3.5 | 3.250 | 6.00 | 5.25 | 5.00 | ⋯ | NA | NA | 0 | 1 |  5 | 6 | <!----> |  2 | NA | NA |\n",
       "| 5 | 67 | 37 | 3.0 | 4.0 | 3.0 | 3.0 | 3.250 | 5.50 | 4.25 | 4.75 | ⋯ | NA | NA | 0 | 1 |  3 | 3 | Clinton |  2 | NA | NA |\n",
       "| 6 | 60 | 36 | 1.5 | 3.5 | 2.0 | 3.0 | 2.500 | 4.00 | 2.75 | 2.75 | ⋯ | NA | NA | 0 | 1 |  1 | 4 | Stein   |  2 | NA | NA |\n",
       "\n"
      ],
      "text/plain": [
       "  MoAimportSUM MoAachieveSUM IDEA8_exp IDEA8_negativity IDEA8_identity\n",
       "1 68           48            2.5       3.5              3.5           \n",
       "2 64           40            4.0       3.5              3.5           \n",
       "3 73           45            3.0       3.5              3.0           \n",
       "4 72           44            3.5       3.0              3.0           \n",
       "5 67           37            3.0       4.0              3.0           \n",
       "6 60           36            1.5       3.5              2.0           \n",
       "  IDEA8_between IDEA8All PSS_Family PSS_Friends PSS_Special ⋯ USresidency\n",
       "1 2.5           3.000    6.50       6.00        5.75        ⋯ NA         \n",
       "2 3.5           3.625    6.25       6.50        4.00        ⋯ NA         \n",
       "3 3.5           3.250    6.00       3.75        6.50        ⋯ NA         \n",
       "4 3.5           3.250    6.00       5.25        5.00        ⋯ NA         \n",
       "5 3.0           3.250    5.50       4.25        4.75        ⋯ NA         \n",
       "6 3.0           2.500    4.00       2.75        2.75        ⋯ NA         \n",
       "  USresidencyyears EA_Status Election_date Political_views Party_affiliation\n",
       "1 NA               0         1             NA              2                \n",
       "2 NA               0         1              2              2                \n",
       "3 NA               0         1              5              4                \n",
       "4 NA               0         1              5              6                \n",
       "5 NA               0         1              3              3                \n",
       "6 NA               0         1              1              4                \n",
       "  President_coded DisabilityIdentity RaceCoded EducationCoded\n",
       "1 Cruz             2                 NA        NA            \n",
       "2 Sanders          2                 NA        NA            \n",
       "3 neither         NA                 NA        NA            \n",
       "4                  2                 NA        NA            \n",
       "5 Clinton          2                 NA        NA            \n",
       "6 Stein            2                 NA        NA            "
      ]
     },
     "metadata": {},
     "output_type": "display_data"
    }
   ],
   "source": [
    "EAMMIdata <- read.csv(file = \"https://bit.ly/2NGiyrS\", header = TRUE)\n",
    "head(EAMMIdata)"
   ]
  },
  {
   "cell_type": "code",
   "execution_count": 1,
   "metadata": {},
   "outputs": [
    {
     "ename": "ERROR",
     "evalue": "Error in select(EAMMIdata, INSERT, NAMESOF, VARIABLES): could not find function \"select\"\n",
     "output_type": "error",
     "traceback": [
      "Error in select(EAMMIdata, INSERT, NAMESOF, VARIABLES): could not find function \"select\"\nTraceback:\n"
     ]
    }
   ],
   "source": [
    "# To handle missing data use the following code and replace INSERT NAMESOF VARIABLES \n",
    "# with the names of the variables you will be using\n",
    "\n",
    "ourEAMMI <- select(EAMMIdata, INSERT, NAMESOF, VARIABLES)\n",
    "ourEAMMI <- ourEAMMI[complete.cases(ourEAMMI),]\n"
   ]
  },
  {
   "cell_type": "markdown",
   "metadata": {},
   "source": [
    "# Research Question\n",
    "\n",
    "Use the space to briefly describe the broad research question you're hoping to address in this project. "
   ]
  },
  {
   "cell_type": "markdown",
   "metadata": {},
   "source": [
    "# Simple Model"
   ]
  },
  {
   "cell_type": "markdown",
   "metadata": {},
   "source": [
    "a) Word Equation"
   ]
  },
  {
   "cell_type": "markdown",
   "metadata": {},
   "source": [
    "b) GLM Equation"
   ]
  },
  {
   "cell_type": "markdown",
   "metadata": {},
   "source": [
    "c) Visualizations"
   ]
  },
  {
   "cell_type": "markdown",
   "metadata": {},
   "source": [
    "d) Fit a linear model"
   ]
  },
  {
   "cell_type": "markdown",
   "metadata": {},
   "source": [
    "e) Quantifying Error (ANOVA)"
   ]
  },
  {
   "cell_type": "markdown",
   "metadata": {},
   "source": [
    "f) Visualization of sampling variability"
   ]
  },
  {
   "cell_type": "markdown",
   "metadata": {},
   "source": [
    "g) Estimate and interpretation of standard error"
   ]
  },
  {
   "cell_type": "markdown",
   "metadata": {},
   "source": [
    "h) Confidence intervals"
   ]
  },
  {
   "cell_type": "markdown",
   "metadata": {},
   "source": [
    "i) Model Comparison"
   ]
  },
  {
   "cell_type": "markdown",
   "metadata": {},
   "source": [
    "j) Conclusion"
   ]
  },
  {
   "cell_type": "markdown",
   "metadata": {},
   "source": [
    "# Qualitative Predictor Model"
   ]
  },
  {
   "cell_type": "markdown",
   "metadata": {},
   "source": [
    "a) Word Equation"
   ]
  },
  {
   "cell_type": "markdown",
   "metadata": {},
   "source": [
    "b) GLM Equation"
   ]
  },
  {
   "cell_type": "markdown",
   "metadata": {},
   "source": [
    "c) Visualizations"
   ]
  },
  {
   "cell_type": "markdown",
   "metadata": {},
   "source": [
    "d) Fit a linear model"
   ]
  },
  {
   "cell_type": "markdown",
   "metadata": {},
   "source": [
    "e) Quantifying Error (ANOVA)"
   ]
  },
  {
   "cell_type": "markdown",
   "metadata": {},
   "source": [
    "f) Visualization of sampling variability"
   ]
  },
  {
   "cell_type": "markdown",
   "metadata": {},
   "source": [
    "g) Estimate and interpretation of standard error"
   ]
  },
  {
   "cell_type": "markdown",
   "metadata": {},
   "source": [
    "h) Confidence intervals"
   ]
  },
  {
   "cell_type": "markdown",
   "metadata": {},
   "source": [
    "i) Model Comparison"
   ]
  },
  {
   "cell_type": "markdown",
   "metadata": {},
   "source": [
    "j) Conclusion"
   ]
  },
  {
   "cell_type": "markdown",
   "metadata": {},
   "source": [
    "# Quantitative Predictor Model"
   ]
  },
  {
   "cell_type": "markdown",
   "metadata": {},
   "source": [
    "a) Word Equation"
   ]
  },
  {
   "cell_type": "markdown",
   "metadata": {},
   "source": [
    "b) GLM Equation"
   ]
  },
  {
   "cell_type": "markdown",
   "metadata": {},
   "source": [
    "c) Visualization"
   ]
  },
  {
   "cell_type": "markdown",
   "metadata": {},
   "source": [
    "d) Fit a linear model"
   ]
  },
  {
   "cell_type": "markdown",
   "metadata": {},
   "source": [
    "e) Quantifying Error (ANOVA)"
   ]
  },
  {
   "cell_type": "markdown",
   "metadata": {},
   "source": [
    "f) Visualization of sampling variability"
   ]
  },
  {
   "cell_type": "markdown",
   "metadata": {},
   "source": [
    "g) Estimate and interpretation of standard error"
   ]
  },
  {
   "cell_type": "markdown",
   "metadata": {},
   "source": [
    "h) Confidence intervals"
   ]
  },
  {
   "cell_type": "markdown",
   "metadata": {},
   "source": [
    "i) Model Comparison"
   ]
  },
  {
   "cell_type": "markdown",
   "metadata": {},
   "source": [
    "j) Conclusion"
   ]
  }
 ],
 "metadata": {
  "kernelspec": {
   "display_name": "R",
   "language": "R",
   "name": "ir"
  },
  "language_info": {
   "codemirror_mode": "r",
   "file_extension": ".r",
   "mimetype": "text/x-r-source",
   "name": "R",
   "pygments_lexer": "r",
   "version": "4.0.3"
  }
 },
 "nbformat": 4,
 "nbformat_minor": 4
}
